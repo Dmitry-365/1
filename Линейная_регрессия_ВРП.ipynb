{
  "nbformat": 4,
  "nbformat_minor": 0,
  "metadata": {
    "colab": {
      "provenance": [],
      "name": "Линейная регрессия ВРП",
      "authorship_tag": "ABX9TyOvV/KES9cwun9eKQPfkpIF",
      "include_colab_link": true
    },
    "kernelspec": {
      "name": "python3",
      "display_name": "Python 3"
    },
    "language_info": {
      "name": "python"
    }
  },
  "cells": [
    {
      "cell_type": "markdown",
      "metadata": {
        "id": "view-in-github",
        "colab_type": "text"
      },
      "source": [
        "<a href=\"https://colab.research.google.com/github/Dmitry-365/1/blob/main/%D0%9B%D0%B8%D0%BD%D0%B5%D0%B9%D0%BD%D0%B0%D1%8F_%D1%80%D0%B5%D0%B3%D1%80%D0%B5%D1%81%D1%81%D0%B8%D1%8F_%D0%92%D0%A0%D0%9F.ipynb\" target=\"_parent\"><img src=\"https://colab.research.google.com/assets/colab-badge.svg\" alt=\"Open In Colab\"/></a>"
      ]
    },
    {
      "cell_type": "markdown",
      "source": [
        "# 1 Модель"
      ],
      "metadata": {
        "id": "-S5Ook_1umah"
      }
    },
    {
      "cell_type": "code",
      "execution_count": null,
      "metadata": {
        "id": "mBuINZlklqld"
      },
      "outputs": [],
      "source": [
        "# для работы с данными\n",
        "import pandas as pd\n",
        "import numpy as np\n",
        "\n",
        "# быстрый вызов эконометрических команд\n",
        "import statsmodels.api as sms\n",
        "import statsmodels.formula.api as smf\n",
        "\n",
        "import scipy.stats as stats\n",
        "import statsmodels.stats.diagnostic as sm_diagnostic\n",
        "import statsmodels.stats.stattools as sm_tools\n",
        "import statsmodels.stats.outliers_influence as oi\n",
        "\n",
        "from statsmodels.stats.outliers_influence import variance_inflation_factor as vif\n",
        "\n",
        "# саммари-таблички\n",
        "!pip install stargazer\n",
        "from stargazer.stargazer import Stargazer, LineLocation\n",
        "\n",
        "# исключительно для датасета\n",
        "!pip install linearmodels\n",
        "\n",
        "# все для рисования\n",
        "import matplotlib.dates as mdates\n",
        "from matplotlib import pyplot as plt\n",
        "%matplotlib inline\n",
        "\n",
        "# убрать предупреждения\n",
        "import warnings\n",
        "warnings.filterwarnings(\"ignore\")\n",
        "\n",
        "# ну куда ж без него\n",
        "!pip install seaborn\n",
        "import seaborn as sb\n"
      ]
    },
    {
      "cell_type": "code",
      "source": [
        "# ВРП- Валовой региональ- ный продукт в 2019 г. , млрд руб\n",
        "# ИОК-инвестиции в основной капитал (в фактически действовавших ценах; миллионов рублей)\n",
        "# ОРТ- оборот розничной торговли (в фактически действовавших ценах; рублей)\n",
        "# СЧН-СРЕДНЕГОДОВАЯ ЧИСЛЕННОСТЬ НАСЕЛЕНИЯ (оценка; тысяч человек)\n",
        "# УЗН-уровень занятости населения (по данным выборочных обследований рабочей силы; в процентах)\n",
        "# НИОКР-ВНУТРЕННИЕ ЗАТРАТЫ НА НАУЧНЫЕ ИССЛЕДОВАНИЯ И РАЗРАБОТКИ\n",
        "# РДН- РЕАЛЬНЫЕ ДЕНЕЖНЫЕ ДОХОДЫ НАСЕЛЕНИЯ (в процентах к предыдущему году)\n",
        "# Н-ПОСТУПЛЕНИЕ НАЛОГОВ, СБОРОВ И ИНЫХ ОБЯЗАТЕЛЬНЫХ ПЛАТЕЖЕЙ (миллионов)\n",
        "# ВСМ-СПЕЦИАЛИСТОВ, МАГИСТРОВ (человек) всего\n",
        "# ГАТ\t-ПЕРЕВОЗКИ ГРУЗОВ И ГРУЗООБОРОТ АВТОМОБИЛЬНОГО ТРАНСПОРТА\n",
        "# ОВНИР\t-ОРГАНИЗАЦИИ, ВЫПОЛНЯВШИЕ НАУЧНЫЕ ИССЛЕДОВАНИЯ И РАЗРАБОТКИ\n",
        "# ЭЗСНГ-суммарное количество объема экспорта в страны зарубежья и СНГ\n",
        "# ОРС- ОБЪЕМ РАБОТ, ВЫПОЛНЕННЫХ ПО ВИДУ ЭКОНОМИЧЕСКОЙ ДЕЯТЕЛЬНОСТИ «СТРОИТЕЛЬСТВО» (в фактически действовавших ценах; миллионов рублей)\n",
        "# ФКП-ФАКТИЧЕСКОЕ КОНЕЧНОЕ потреблениеНА ТЕРРИТОРИИ СУБЪЕКТОВ (в текущих рыночных ценах; расходы домохозяйств , социальных трансфертов в\n",
        "# ВС-ВЫПУСК СПЕЦИАЛИСТОВ (тысяч)\n",
        "# ОГЖ-ОТПРАВЛЕНИЕ ГРУЗОВ ЖЕЛЕЗНОДОРОЖНЫМ ТРАНСПОРТОМ ОБЩЕГО ПОЛЬЗОВАНИЯ\n",
        "# ЗК-ЗАБОЛЕВАЕМОСТЬ на 1000 человек населения ПО ОСНОВНЫМ КЛАССАМ (болезни имунной системы (нарушение кровообращения))\n",
        "# ВРПД-Валовой региональ- ный продукт на душу населения\n",
        "# ЧСПБС-2019/2020 Студенты органи- заций – всего 5.15. ЧИСЛЕННОСТЬ СТУДЕНТОВ, ОБУЧАЮЩИХСЯ ПО ПРОГРАММАМ БАКАЛАВРИАТА, СПЕЦИАЛИТЕТА, МАГИСТРАТУРЫ\n",
        "# (на начало учебного года; тысяч человек)\n",
        "# ПОПБС-ПРИЕМ НА ОБУЧЕНИЕ ПО ПРОГРАММАМ БАКАЛАВРИАТА, СПЕЦИАЛИТЕТА, (тысяч Принято на обу- чение\n",
        "# в организации – всего человек) МАГИСТРАТУРЫ\n",
        "# СДДНМ-. СРЕДНЕДУШЕВЫЕ ДЕНЕЖНЫЕ ДОХОДЫ НАСЕЛЕНИЯ(в месяц; рублей)\n",
        "# РР-РАСПРЕДЕЛЕНИЕ СТРОИТЕЛЬНЫХ РАБОТ, ВЫПОЛНЕННЫХ ОРГАНИЗАЦИЯМИ (в процентах) РАЗЛИЧНЫХ ФОРМ СОБСТВЕННОСТИ  частнаяская\n",
        "# СИОКЗ-СТРУКТУРА ИНВЕСТИЦИЙ В ОСНОВНОЙ КАПИТАЛ ПО ВИДАМ ОСНОВНЫХ  ФОНДОВ (в процентах от общего объема инвестиций) 2019 З дания  (кроме жилых) и сооружения, расходы\n",
        "# ВЮФЛ- ВКЛАДЫ (ДЕПОЗИТЫ) ЮРИДИЧЕСКИХ И ФИЗИЧЕСКИХ ЛИЦ В РУБЛЯХ,  (исходя из места привлечения средств; на начало года; миллионов рублей) ПРИВЛЕЧЕННЫЕ КРЕДИТНЫМИ ОРГАНИЗАЦИЯМИ\n",
        "# ИППТ- ИСПОЛЬЗУЕМЫЕ ПЕРЕДОВЫЕ ПРОИЗВОДСТВЕННЫЕ ТЕХНОЛОГИИ\n",
        "# ЗИДО-ЗАТРАТЫ НА ИННОВАЦИОННУЮ ДЕЯТЕЛЬНОСТЬ ОРГАНИЗАЦИЙ в 2019 г. Млн руб.\n",
        "# NX-ТОВАРНАЯ СТРУКТУРА ЭКСПОРТА И ИМПОРТА в 2019 г. Чистый экспорт\n",
        "# ИТГП-ИНДЕКСЫ ТАРИФОВ НА ГРУЗОВЫЕ ПЕРЕВОЗКИ (декабрь к декабрю предыдущего года; в процентах)\n",
        "# ЖФ- ЖИЛИЩНЫЙ ФОНД1) (общая площадь жилых помещений; миллионов\n",
        "# ЧПО-ЧИСЛО ПРЕДПРИЯТИЙ И ОРГАНИЗАЦИЙ1)(на конец года)\n",
        "# ООЭД-ОБОРОТ ОРГАНИЗАЦИЙ ПО ВИДАМ ЭКОНОМИЧЕСКОЙ ДЕЯТЕЛЬНОСТИ в 2019 г. 1) (миллиардов рублей) обрабатыва ющие производств а\n",
        "# ОКУ-ОБЪЕМ КОММУНАЛЬНЫХ УСЛУГ НАСЕЛЕНИЮ (миллионов рублей)\n",
        "\n"
      ],
      "metadata": {
        "id": "F3aKKY8BnO4Q"
      },
      "execution_count": null,
      "outputs": []
    },
    {
      "cell_type": "code",
      "source": [
        "data = pd.read_excel(\"/content/эконометрика данные 18.12.23 конечный вариант.xlsx\")\n",
        "data.head()"
      ],
      "metadata": {
        "id": "60CmZub4nc79",
        "colab": {
          "base_uri": "https://localhost:8080/",
          "height": 195
        },
        "outputId": "14329072-8ef0-491f-9acf-d17b55bf023f"
      },
      "execution_count": null,
      "outputs": [
        {
          "output_type": "error",
          "ename": "NameError",
          "evalue": "name 'pd' is not defined",
          "traceback": [
            "\u001b[0;31m---------------------------------------------------------------------------\u001b[0m",
            "\u001b[0;31mNameError\u001b[0m                                 Traceback (most recent call last)",
            "\u001b[0;32m<ipython-input-1-bb71fea636bb>\u001b[0m in \u001b[0;36m<cell line: 1>\u001b[0;34m()\u001b[0m\n\u001b[0;32m----> 1\u001b[0;31m \u001b[0mdata\u001b[0m \u001b[0;34m=\u001b[0m \u001b[0mpd\u001b[0m\u001b[0;34m.\u001b[0m\u001b[0mread_excel\u001b[0m\u001b[0;34m(\u001b[0m\u001b[0;34m\"/content/эконометрика данные 18.12.23 конечный вариант.xlsx\"\u001b[0m\u001b[0;34m)\u001b[0m\u001b[0;34m\u001b[0m\u001b[0;34m\u001b[0m\u001b[0m\n\u001b[0m\u001b[1;32m      2\u001b[0m \u001b[0mdata\u001b[0m\u001b[0;34m.\u001b[0m\u001b[0mhead\u001b[0m\u001b[0;34m(\u001b[0m\u001b[0;34m)\u001b[0m\u001b[0;34m\u001b[0m\u001b[0;34m\u001b[0m\u001b[0m\n",
            "\u001b[0;31mNameError\u001b[0m: name 'pd' is not defined"
          ]
        }
      ]
    },
    {
      "cell_type": "code",
      "source": [
        "import statsmodels.api as sm\n",
        "import statsmodels.formula.api as smf\n",
        "data['СДДНМ2']=np.log(data['СДДНМ'])\n",
        "data.head()\n",
        "data['ОКУ2']=np.log(data['ОКУ'])\n",
        "data.head()\n",
        "Y=data['ВРП']\n",
        "X=data[['ГАТ','ОКУ','ОГЖ','РДН']]\n",
        "model0=sm.OLS(Y,sm.add_constant(X)).fit()\n",
        "print(model0.summary())"
      ],
      "metadata": {
        "colab": {
          "base_uri": "https://localhost:8080/"
        },
        "id": "JS-pjgLrnkPF",
        "outputId": "e7ac8292-6930-4969-e8bd-bb63baf1831d"
      },
      "execution_count": null,
      "outputs": [
        {
          "output_type": "stream",
          "name": "stdout",
          "text": [
            "                            OLS Regression Results                            \n",
            "==============================================================================\n",
            "Dep. Variable:                    ВРП   R-squared:                       0.761\n",
            "Model:                            OLS   Adj. R-squared:                  0.749\n",
            "Method:                 Least Squares   F-statistic:                     63.73\n",
            "Date:                Mon, 18 Dec 2023   Prob (F-statistic):           4.20e-24\n",
            "Time:                        14:37:29   Log-Likelihood:                -716.49\n",
            "No. Observations:                  85   AIC:                             1443.\n",
            "Df Residuals:                      80   BIC:                             1455.\n",
            "Df Model:                           4                                         \n",
            "Covariance Type:            nonrobust                                         \n",
            "==============================================================================\n",
            "                 coef    std err          t      P>|t|      [0.025      0.975]\n",
            "------------------------------------------------------------------------------\n",
            "const      -2.096e+04   8528.115     -2.458      0.016   -3.79e+04   -3986.723\n",
            "ГАТ           -0.2358      0.083     -2.843      0.006      -0.401      -0.071\n",
            "ОКУ            0.0716      0.006     12.301      0.000       0.060       0.083\n",
            "ОГЖ            0.3471      0.575      0.604      0.548      -0.797       1.491\n",
            "РДН          206.0137     84.422      2.440      0.017      38.008     374.019\n",
            "==============================================================================\n",
            "Omnibus:                       43.470   Durbin-Watson:                   1.820\n",
            "Prob(Omnibus):                  0.000   Jarque-Bera (JB):              653.639\n",
            "Skew:                           0.946   Prob(JB):                    1.16e-142\n",
            "Kurtosis:                      16.453   Cond. No.                     2.74e+06\n",
            "==============================================================================\n",
            "\n",
            "Notes:\n",
            "[1] Standard Errors assume that the covariance matrix of the errors is correctly specified.\n",
            "[2] The condition number is large, 2.74e+06. This might indicate that there are\n",
            "strong multicollinearity or other numerical problems.\n"
          ]
        }
      ]
    },
    {
      "cell_type": "code",
      "source": [
        "# для линейной модели\n",
        "fig = plt.figure(num = 2, figsize = (10, 10))\n",
        "\n",
        "# Графически ищем гетероскедастичность:\n",
        "influence = model0.get_influence()\n",
        "st_residuals_lin = influence.resid_studentized_internal\n",
        "\n",
        "# Диаграмма рассеяния остатков относительно\n",
        "ax = fig.add_subplot(2, 2, 1)\n",
        "ax.plot(model0.fittedvalues, st_residuals_lin, linestyle = \"None\", marker = \"o\", markeredgecolor = \"black\")\n",
        "# Гистограмма остатков\n",
        "ax = fig.add_subplot(2, 2, 2)\n",
        "ax.hist(st_residuals_lin, bins = 30, edgecolor = \"black\")\n",
        "# График остатков: Q-Q:\n",
        "ax = fig.add_subplot(2, 1, 2)\n",
        "stats.probplot(st_residuals_lin, dist = \"norm\", plot = ax)\n",
        "\n",
        "plt.show()"
      ],
      "metadata": {
        "colab": {
          "base_uri": "https://localhost:8080/",
          "height": 870
        },
        "id": "b_wOAexAqJ6O",
        "outputId": "027667ea-0296-4402-c860-aa2eb4c35537"
      },
      "execution_count": null,
      "outputs": [
        {
          "output_type": "display_data",
          "data": {
            "text/plain": [
              "<Figure size 1000x1000 with 3 Axes>"
            ],
            "image/png": "[encoded data removed]"
          },
          "metadata": {}
        }
      ]
    },
    {
      "cell_type": "code",
      "source": [
        "# H0: гомоскедастичность\n",
        "name = ['LM statistic', 'LM p-value', 'F-value', 'F  p-value']\n",
        "bp_test = sm_diagnostic.het_breuschpagan(resid = model0.resid, exog_het = sm.add_constant(X))\n",
        "print(pd.DataFrame([np.round(bp_test, 3)], columns=name))"
      ],
      "metadata": {
        "colab": {
          "base_uri": "https://localhost:8080/"
        },
        "id": "lARnNHDZq8tO",
        "outputId": "5b373a07-eb71-4903-a641-e57554416106"
      },
      "execution_count": null,
      "outputs": [
        {
          "output_type": "stream",
          "name": "stdout",
          "text": [
            "   LM statistic  LM p-value  F-value  F  p-value\n",
            "0        63.105         0.0   57.644         0.0\n"
          ]
        }
      ]
    },
    {
      "cell_type": "code",
      "source": [
        "# H0: нормальность остатков\n",
        "norm_tests = [\"Anderson-Darling\",\n",
        "              \"Kolmogorov-Smirnov\",\n",
        "              \"Jarque-Bera\"]"
      ],
      "metadata": {
        "id": "-CGwN4iorZnc"
      },
      "execution_count": null,
      "outputs": []
    },
    {
      "cell_type": "code",
      "source": [
        "norm_test = pd.DataFrame()\n",
        "norm_test[\"p_value\"] = [\n",
        "    sm_diagnostic.normal_ad(x = model0.resid)[1],\n",
        "    sm_diagnostic.kstest_normal(x = model0.resid, dist = \"norm\")[1],\n",
        "    sm_tools.jarque_bera(model0.resid)[1]\n",
        "]\n",
        "norm_test[\"Test\"] = norm_tests\n",
        "print(norm_test)"
      ],
      "metadata": {
        "colab": {
          "base_uri": "https://localhost:8080/"
        },
        "id": "5iS0OU9arh5I",
        "outputId": "023331b8-09c4-4117-b924-924494fbc77a"
      },
      "execution_count": null,
      "outputs": [
        {
          "output_type": "stream",
          "name": "stdout",
          "text": [
            "         p_value                Test\n",
            "0   6.029346e-15    Anderson-Darling\n",
            "1   1.000000e-03  Kolmogorov-Smirnov\n",
            "2  1.159195e-142         Jarque-Bera\n"
          ]
        }
      ]
    },
    {
      "cell_type": "code",
      "source": [
        "#VIF-тест\n",
        "pd.Series([vif(X.values, i) for i in range(X.shape[1])], index=X.columns)"
      ],
      "metadata": {
        "colab": {
          "base_uri": "https://localhost:8080/"
        },
        "id": "JWb7TtQJr3KY",
        "outputId": "16bdfa2d-c89e-4866-c7dd-c4b81f5d97c9"
      },
      "execution_count": null,
      "outputs": [
        {
          "output_type": "execute_result",
          "data": {
            "text/plain": [
              "ГАТ    4.197310\n",
              "ОКУ    3.308876\n",
              "ОГЖ    1.061374\n",
              "РДН    2.087249\n",
              "dtype: float64"
            ]
          },
          "metadata": {},
          "execution_count": 41
        }
      ]
    },
    {
      "cell_type": "code",
      "source": [
        "#Тест Бройша-Пагана.(определение гетероскедостичности/гомоскедостичности) ,H0->гомоскедостичность,\n",
        "#H1-> гомоскедостичность отсутствует.=> гетероскедостичность.\n",
        "#если p > 0,05 , то H0 не отвергаем\n",
        "import statsmodels.formula.api as smf\n",
        "from statsmodels.compat import lzip\n",
        "import statsmodels.stats.api as sms\n",
        "test = sms.het_breuschpagan(resid=model0.resid,exog_het=sm.add_constant(X))\n",
        "names= ['Lagrange multiplier statistic','p-value','f-value ','f p-value']\n",
        "lzip(names,test)\n",
        "#1.Lagrange multiplier statistic\n",
        "#2.p-value\n",
        "#3.f-vulue\n",
        "#4.f p-value"
      ],
      "metadata": {
        "colab": {
          "base_uri": "https://localhost:8080/"
        },
        "id": "da5YqsKNsJSs",
        "outputId": "94843c64-9b04-4b94-9b9f-0f2877df5547"
      },
      "execution_count": null,
      "outputs": [
        {
          "output_type": "execute_result",
          "data": {
            "text/plain": [
              "[('Lagrange multiplier statistic', 63.10520170068436),\n",
              " ('p-value', 6.44859725479794e-13),\n",
              " ('f-value ', 57.644012827153404),\n",
              " ('f p-value', 8.394033669602432e-23)]"
            ]
          },
          "metadata": {},
          "execution_count": 42
        }
      ]
    },
    {
      "cell_type": "code",
      "source": [
        "#Тестирование на пропущенную нелинейность(Тест Рейнбоу)\n",
        "data_rain = data.iloc[np.argsort(data[\"ГАТ\"]), :]\n",
        "factors_rain = data_rain[['ГАТ','ОКУ','ОГЖ','РДН']]\n",
        "wage_rain = data_rain['ВРП']\n",
        "\n",
        "res_rain = sm.OLS(wage_rain, factors_rain).fit()\n",
        "rain_t1 = sm_diagnostic.linear_rainbow(res_rain)\n",
        "print(pd.DataFrame(rain_t1, index = [\"F-stat\", \"p-value\"]).T)\n",
        "\n"
      ],
      "metadata": {
        "colab": {
          "base_uri": "https://localhost:8080/"
        },
        "id": "x1Dc2rWX7mVl",
        "outputId": "b78182da-3156-40ce-dd7e-578b607c9777"
      },
      "execution_count": null,
      "outputs": [
        {
          "output_type": "stream",
          "name": "stdout",
          "text": [
            "      F-stat       p-value\n",
            "0  11.166081  6.014400e-12\n"
          ]
        }
      ]
    },
    {
      "cell_type": "code",
      "source": [
        "#Тестирование на пропущенную нелинейность\n",
        "factors_nosq = data[['ГАТ','ОКУ','ОГЖ']]\n",
        "\n",
        "wage = data['ВРП']\n",
        "res_nosq = sm.OLS(wage, factors_nosq).fit()\n",
        "\n",
        "reset_t2 = oi.reset_ramsey(res_nosq, degree = 2)\n",
        "print(reset_t2)\n"
      ],
      "metadata": {
        "colab": {
          "base_uri": "https://localhost:8080/"
        },
        "id": "HQxNL1JW8SL1",
        "outputId": "23006f52-417a-443e-b73e-7172a9293012"
      },
      "execution_count": null,
      "outputs": [
        {
          "output_type": "stream",
          "name": "stdout",
          "text": [
            "<F test: F=42.198948702535105, p=6.216372227303423e-09, df_denom=81, df_num=1>\n"
          ]
        }
      ]
    },
    {
      "cell_type": "code",
      "source": [],
      "metadata": {
        "id": "VQo3fbmwKPPa"
      },
      "execution_count": null,
      "outputs": []
    },
    {
      "cell_type": "markdown",
      "source": [
        "# 2 Модель"
      ],
      "metadata": {
        "id": "TU3WJEEZuxT4"
      }
    },
    {
      "cell_type": "code",
      "source": [
        "# ВРП- Валовой региональ- ный продукт в 2019 г. , млрд руб\n",
        "# ИОК-инвестиции в основной капитал (в фактически действовавших ценах; миллионов рублей)\n",
        "# ОРТ- оборот розничной торговли (в фактически действовавших ценах; рублей)\n",
        "# СЧН-СРЕДНЕГОДОВАЯ ЧИСЛЕННОСТЬ НАСЕЛЕНИЯ (оценка; тысяч человек)\n",
        "# УЗН-уровень занятости населения (по данным выборочных обследований рабочей силы; в процентах)\n",
        "# НИОКР-ВНУТРЕННИЕ ЗАТРАТЫ НА НАУЧНЫЕ ИССЛЕДОВАНИЯ И РАЗРАБОТКИ\n",
        "# РДН- РЕАЛЬНЫЕ ДЕНЕЖНЫЕ ДОХОДЫ НАСЕЛЕНИЯ (в процентах к предыдущему году)\n",
        "# Н-ПОСТУПЛЕНИЕ НАЛОГОВ, СБОРОВ И ИНЫХ ОБЯЗАТЕЛЬНЫХ ПЛАТЕЖЕЙ (миллионов)\n",
        "# ВСМ-СПЕЦИАЛИСТОВ, МАГИСТРОВ (человек) всего\n",
        "# ГАТ\t-ПЕРЕВОЗКИ ГРУЗОВ И ГРУЗООБОРОТ АВТОМОБИЛЬНОГО ТРАНСПОРТА\n",
        "# ОВНИР\t-ОРГАНИЗАЦИИ, ВЫПОЛНЯВШИЕ НАУЧНЫЕ ИССЛЕДОВАНИЯ И РАЗРАБОТКИ\n",
        "# ЭЗСНГ-суммарное количество объема экспорта в страны зарубежья и СНГ\n",
        "# ОРС- ОБЪЕМ РАБОТ, ВЫПОЛНЕННЫХ ПО ВИДУ ЭКОНОМИЧЕСКОЙ ДЕЯТЕЛЬНОСТИ «СТРОИТЕЛЬСТВО» (в фактически действовавших ценах; миллионов рублей)\n",
        "# ФКП-ФАКТИЧЕСКОЕ КОНЕЧНОЕ потреблениеНА ТЕРРИТОРИИ СУБЪЕКТОВ (в текущих рыночных ценах; расходы домохозяйств , социальных трансфертов в\n",
        "# ВС-ВЫПУСК СПЕЦИАЛИСТОВ (тысяч)\n",
        "# ОГЖ-ОТПРАВЛЕНИЕ ГРУЗОВ ЖЕЛЕЗНОДОРОЖНЫМ ТРАНСПОРТОМ ОБЩЕГО ПОЛЬЗОВАНИЯ\n",
        "# ЗК-ЗАБОЛЕВАЕМОСТЬ на 1000 человек населения ПО ОСНОВНЫМ КЛАССАМ (болезни имунной системы (нарушение кровообращения))\n",
        "# ВРПД-Валовой региональ- ный продукт на душу населения\n",
        "# ЧСПБС-2019/2020 Студенты органи- заций – всего 5.15. ЧИСЛЕННОСТЬ СТУДЕНТОВ, ОБУЧАЮЩИХСЯ ПО ПРОГРАММАМ БАКАЛАВРИАТА, СПЕЦИАЛИТЕТА, МАГИСТРАТУРЫ\n",
        "# (на начало учебного года; тысяч человек)\n",
        "# ПОПБС-ПРИЕМ НА ОБУЧЕНИЕ ПО ПРОГРАММАМ БАКАЛАВРИАТА, СПЕЦИАЛИТЕТА, (тысяч Принято на обу- чение\n",
        "# в организации – всего человек) МАГИСТРАТУРЫ\n",
        "# СДДНМ-. СРЕДНЕДУШЕВЫЕ ДЕНЕЖНЫЕ ДОХОДЫ НАСЕЛЕНИЯ(в месяц; рублей)\n",
        "# РР-РАСПРЕДЕЛЕНИЕ СТРОИТЕЛЬНЫХ РАБОТ, ВЫПОЛНЕННЫХ ОРГАНИЗАЦИЯМИ (в процентах) РАЗЛИЧНЫХ ФОРМ СОБСТВЕННОСТИ  частнаяская\n",
        "# СИОКЗ-СТРУКТУРА ИНВЕСТИЦИЙ В ОСНОВНОЙ КАПИТАЛ ПО ВИДАМ ОСНОВНЫХ  ФОНДОВ (в процентах от общего объема инвестиций) 2019 З дания  (кроме жилых) и сооружения, расходы\n",
        "# ВЮФЛ- ВКЛАДЫ (ДЕПОЗИТЫ) ЮРИДИЧЕСКИХ И ФИЗИЧЕСКИХ ЛИЦ В РУБЛЯХ,  (исходя из места привлечения средств; на начало года; миллионов рублей) ПРИВЛЕЧЕННЫЕ КРЕДИТНЫМИ ОРГАНИЗАЦИЯМИ\n",
        "# ИППТ- ИСПОЛЬЗУЕМЫЕ ПЕРЕДОВЫЕ ПРОИЗВОДСТВЕННЫЕ ТЕХНОЛОГИИ\n",
        "# ЗИДО-ЗАТРАТЫ НА ИННОВАЦИОННУЮ ДЕЯТЕЛЬНОСТЬ ОРГАНИЗАЦИЙ в 2019 г. Млн руб.\n",
        "# NX-ТОВАРНАЯ СТРУКТУРА ЭКСПОРТА И ИМПОРТА в 2019 г. Чистый экспорт\n",
        "# ИТГП-ИНДЕКСЫ ТАРИФОВ НА ГРУЗОВЫЕ ПЕРЕВОЗКИ (декабрь к декабрю предыдущего года; в процентах)\n",
        "# ЖФ- ЖИЛИЩНЫЙ ФОНД1) (общая площадь жилых помещений; миллионов\n",
        "# ЧПО-ЧИСЛО ПРЕДПРИЯТИЙ И ОРГАНИЗАЦИЙ1)(на конец года)\n",
        "# ООЭД-ОБОРОТ ОРГАНИЗАЦИЙ ПО ВИДАМ ЭКОНОМИЧЕСКОЙ ДЕЯТЕЛЬНОСТИ в 2019 г. 1) (миллиардов рублей) обрабатыва ющие производств а\n",
        "# ОКУ-ОБЪЕМ КОММУНАЛЬНЫХ УСЛУГ НАСЕЛЕНИЮ (миллионов рублей)\n"
      ],
      "metadata": {
        "id": "RpgwWkiTx8mO"
      },
      "execution_count": null,
      "outputs": []
    },
    {
      "cell_type": "code",
      "source": [
        "import statsmodels.api as sm\n",
        "import statsmodels.formula.api as smf\n",
        "data['ВСМ2']=np.log(data['ВС'])\n",
        "data.head()\n",
        "data['ИОК2']=np.log(data['ИОК'])\n",
        "data.head()\n",
        "data['ЗИДО2']=np.log(data['ЗИДО'])\n",
        "data.head()\n",
        "Y=np.log(data['ВРП'])\n",
        "X1=data[['ВСМ2','ИОК2','ЗИДО2']]\n",
        "model1=sm.OLS(Y,sm.add_constant(X1)).fit()\n",
        "print(model1.summary())"
      ],
      "metadata": {
        "colab": {
          "base_uri": "https://localhost:8080/"
        },
        "id": "HJ10AN8Nu2JQ",
        "outputId": "03b91d1a-2950-46db-ccbf-e1879e80fae3"
      },
      "execution_count": null,
      "outputs": [
        {
          "output_type": "stream",
          "name": "stdout",
          "text": [
            "                            OLS Regression Results                            \n",
            "==============================================================================\n",
            "Dep. Variable:                    ВРП   R-squared:                       0.944\n",
            "Model:                            OLS   Adj. R-squared:                  0.942\n",
            "Method:                 Least Squares   F-statistic:                     452.4\n",
            "Date:                Mon, 18 Dec 2023   Prob (F-statistic):           1.78e-50\n",
            "Time:                        14:43:58   Log-Likelihood:                -5.2968\n",
            "No. Observations:                  85   AIC:                             18.59\n",
            "Df Residuals:                      81   BIC:                             28.36\n",
            "Df Model:                           3                                         \n",
            "Covariance Type:            nonrobust                                         \n",
            "==============================================================================\n",
            "                 coef    std err          t      P>|t|      [0.025      0.975]\n",
            "------------------------------------------------------------------------------\n",
            "const         -3.4108      0.430     -7.924      0.000      -4.267      -2.554\n",
            "ВСМ2           0.1201      0.042      2.881      0.005       0.037       0.203\n",
            "ИОК2           0.7598      0.045     16.759      0.000       0.670       0.850\n",
            "ЗИДО2          0.0841      0.019      4.500      0.000       0.047       0.121\n",
            "==============================================================================\n",
            "Omnibus:                       15.601   Durbin-Watson:                   2.103\n",
            "Prob(Omnibus):                  0.000   Jarque-Bera (JB):               21.887\n",
            "Skew:                          -0.805   Prob(JB):                     1.77e-05\n",
            "Kurtosis:                       4.894   Cond. No.                         220.\n",
            "==============================================================================\n",
            "\n",
            "Notes:\n",
            "[1] Standard Errors assume that the covariance matrix of the errors is correctly specified.\n"
          ]
        }
      ]
    },
    {
      "cell_type": "code",
      "source": [
        "# для модели 2\n",
        "fig = plt.figure(num = 2, figsize = (10, 10))\n",
        "\n",
        "# Графически ищем гетероскедастичность:\n",
        "influence = model1.get_influence()\n",
        "st_residuals_lin = influence.resid_studentized_internal\n",
        "\n",
        "# Диаграмма рассеяния остатков относительно\n",
        "ax = fig.add_subplot(2, 2, 1)\n",
        "ax.plot(model1.fittedvalues, st_residuals_lin, linestyle = \"None\", marker = \"o\", markeredgecolor = \"black\")\n",
        "# Гистограмма остатков\n",
        "ax = fig.add_subplot(2, 2, 2)\n",
        "ax.hist(st_residuals_lin, bins = 30, edgecolor = \"black\")\n",
        "# График остатков: Q-Q:\n",
        "ax = fig.add_subplot(2, 1, 2)\n",
        "stats.probplot(st_residuals_lin, dist = \"norm\", plot = ax)\n",
        "\n",
        "plt.show()"
      ],
      "metadata": {
        "colab": {
          "base_uri": "https://localhost:8080/",
          "height": 687
        },
        "id": "wbnQkBGC2PK3",
        "outputId": "544dfd27-5685-4aae-c284-da19f8fc3845"
      },
      "execution_count": null,
      "outputs": [
        {
          "output_type": "display_data",
          "data": {
            "text/plain": [
              "<Figure size 1000x1000 with 3 Axes>"
            ],
            "image/png": "[encoded data removed]"
          },
          "metadata": {}
        }
      ]
    },
    {
      "cell_type": "code",
      "source": [
        "# H0: гомоскедастичность\n",
        "name = ['LM statistic', 'LM p-value', 'F-value', 'F  p-value']\n",
        "bp_test = sm_diagnostic.het_breuschpagan(resid = model1.resid, exog_het = sm.add_constant(X1))\n",
        "print(pd.DataFrame([np.round(bp_test, 3)], columns=name))"
      ],
      "metadata": {
        "colab": {
          "base_uri": "https://localhost:8080/"
        },
        "id": "pyJvoFkJ2e_2",
        "outputId": "a94b21ec-0286-43a3-ad8d-07c667cdd09a"
      },
      "execution_count": null,
      "outputs": [
        {
          "output_type": "stream",
          "name": "stdout",
          "text": [
            "   LM statistic  LM p-value  F-value  F  p-value\n",
            "0         6.856       0.077    2.369       0.077\n"
          ]
        }
      ]
    },
    {
      "cell_type": "code",
      "source": [
        "# H0: нормальность остатков\n",
        "norm_tests = [\"Anderson-Darling\",\n",
        "              \"Kolmogorov-Smirnov\",\n",
        "              \"Jarque-Bera\"]\n",
        "norm_test = pd.DataFrame()\n",
        "norm_test[\"p_value\"] = [\n",
        "    sm_diagnostic.normal_ad(x = model1.resid)[1],\n",
        "    sm_diagnostic.kstest_normal(x = model1.resid, dist = \"norm\")[1],\n",
        "    sm_tools.jarque_bera(model1.resid)[1]\n",
        "]\n",
        "norm_test[\"Test\"] = norm_tests\n",
        "print(norm_test)"
      ],
      "metadata": {
        "colab": {
          "base_uri": "https://localhost:8080/"
        },
        "id": "M1rjHQ5F2rYL",
        "outputId": "eec3fcfb-7640-4683-eed4-c2b06807fc3d"
      },
      "execution_count": null,
      "outputs": [
        {
          "output_type": "stream",
          "name": "stdout",
          "text": [
            "    p_value                Test\n",
            "0  0.244416    Anderson-Darling\n",
            "1  0.383687  Kolmogorov-Smirnov\n",
            "2  0.000018         Jarque-Bera\n"
          ]
        }
      ]
    },
    {
      "cell_type": "code",
      "source": [
        "#VIF-тест\n",
        "pd.Series([vif(X1.values, i) for i in range(X1.shape[1])], index=X1.columns)"
      ],
      "metadata": {
        "colab": {
          "base_uri": "https://localhost:8080/"
        },
        "id": "UVrBfJGb2zIi",
        "outputId": "5d0012d0-28ad-46d4-c319-e1644739be06"
      },
      "execution_count": null,
      "outputs": [
        {
          "output_type": "execute_result",
          "data": {
            "text/plain": [
              "ВСМ2      5.032734\n",
              "ИОК2     21.250625\n",
              "ЗИДО2    27.255051\n",
              "dtype: float64"
            ]
          },
          "metadata": {},
          "execution_count": 57
        }
      ]
    },
    {
      "cell_type": "code",
      "source": [
        "#Тест Бройша-Пагана.(определение гетероскедостичности/гомоскедостичности) ,H0->гомоскедостичность,\n",
        "#H1-> гомоскедостичность отсутствует.=> гетероскедостичность.\n",
        "#если p > 0,05 , то H0 не отвергаем\n",
        "import statsmodels.formula.api as smf\n",
        "from statsmodels.compat import lzip\n",
        "import statsmodels.stats.api as sms\n",
        "test = sms.het_breuschpagan(resid=model1.resid,exog_het=sm.add_constant(X1))\n",
        "names= ['Lagrange multiplier statistic','p-value','f-value ','f p-value']\n",
        "lzip(names,test)\n",
        "#1.Lagrange multiplier statistic\n",
        "#2.p-value\n",
        "#3.f-vulue\n",
        "#4.f p-value"
      ],
      "metadata": {
        "colab": {
          "base_uri": "https://localhost:8080/"
        },
        "id": "wxhWCJm525Ge",
        "outputId": "6ec1ed6a-b4c9-45df-a72b-6ddd081cb2b9"
      },
      "execution_count": null,
      "outputs": [
        {
          "output_type": "execute_result",
          "data": {
            "text/plain": [
              "[('Lagrange multiplier statistic', 6.855813269957252),\n",
              " ('p-value', 0.07663828719108386),\n",
              " ('f-value ', 2.368787315278067),\n",
              " ('f p-value', 0.0767241854077319)]"
            ]
          },
          "metadata": {},
          "execution_count": 58
        }
      ]
    },
    {
      "cell_type": "markdown",
      "source": [
        "# 3 Модель"
      ],
      "metadata": {
        "id": "ysqOAHuD3nZG"
      }
    },
    {
      "cell_type": "code",
      "source": [
        "# ВРП- Валовой региональ- ный продукт в 2019 г. , млрд руб\n",
        "# ИОК-инвестиции в основной капитал (в фактически действовавших ценах; миллионов рублей)\n",
        "# ОРТ- оборот розничной торговли (в фактически действовавших ценах; рублей)\n",
        "# СЧН-СРЕДНЕГОДОВАЯ ЧИСЛЕННОСТЬ НАСЕЛЕНИЯ (оценка; тысяч человек)\n",
        "# УЗН-уровень занятости населения (по данным выборочных обследований рабочей силы; в процентах)\n",
        "# НИОКР-ВНУТРЕННИЕ ЗАТРАТЫ НА НАУЧНЫЕ ИССЛЕДОВАНИЯ И РАЗРАБОТКИ\n",
        "# РДН- РЕАЛЬНЫЕ ДЕНЕЖНЫЕ ДОХОДЫ НАСЕЛЕНИЯ (в процентах к предыдущему году)\n",
        "# Н-ПОСТУПЛЕНИЕ НАЛОГОВ, СБОРОВ И ИНЫХ ОБЯЗАТЕЛЬНЫХ ПЛАТЕЖЕЙ (миллионов)\n",
        "# ВСМ-СПЕЦИАЛИСТОВ, МАГИСТРОВ (человек) всего\n",
        "# ГАТ\t-ПЕРЕВОЗКИ ГРУЗОВ И ГРУЗООБОРОТ АВТОМОБИЛЬНОГО ТРАНСПОРТА\n",
        "# ОВНИР\t-ОРГАНИЗАЦИИ, ВЫПОЛНЯВШИЕ НАУЧНЫЕ ИССЛЕДОВАНИЯ И РАЗРАБОТКИ\n",
        "# ЭЗСНГ-суммарное количество объема экспорта в страны зарубежья и СНГ\n",
        "# ОРС- ОБЪЕМ РАБОТ, ВЫПОЛНЕННЫХ ПО ВИДУ ЭКОНОМИЧЕСКОЙ ДЕЯТЕЛЬНОСТИ «СТРОИТЕЛЬСТВО» (в фактически действовавших ценах; миллионов рублей)\n",
        "# ФКП-ФАКТИЧЕСКОЕ КОНЕЧНОЕ потреблениеНА ТЕРРИТОРИИ СУБЪЕКТОВ (в текущих рыночных ценах; расходы домохозяйств , социальных трансфертов в\n",
        "# ВС-ВЫПУСК СПЕЦИАЛИСТОВ (тысяч)\n",
        "# ОГЖ-ОТПРАВЛЕНИЕ ГРУЗОВ ЖЕЛЕЗНОДОРОЖНЫМ ТРАНСПОРТОМ ОБЩЕГО ПОЛЬЗОВАНИЯ\n",
        "# ЗК-ЗАБОЛЕВАЕМОСТЬ на 1000 человек населения ПО ОСНОВНЫМ КЛАССАМ (болезни имунной системы (нарушение кровообращения))\n",
        "# ВРПД-Валовой региональ- ный продукт на душу населения\n",
        "# ЧСПБС-2019/2020 Студенты органи- заций – всего 5.15. ЧИСЛЕННОСТЬ СТУДЕНТОВ, ОБУЧАЮЩИХСЯ ПО ПРОГРАММАМ БАКАЛАВРИАТА, СПЕЦИАЛИТЕТА, МАГИСТРАТУРЫ\n",
        "# (на начало учебного года; тысяч человек)\n",
        "# ПОПБС-ПРИЕМ НА ОБУЧЕНИЕ ПО ПРОГРАММАМ БАКАЛАВРИАТА, СПЕЦИАЛИТЕТА, (тысяч Принято на обу- чение\n",
        "# в организации – всего человек) МАГИСТРАТУРЫ\n",
        "# СДДНМ-. СРЕДНЕДУШЕВЫЕ ДЕНЕЖНЫЕ ДОХОДЫ НАСЕЛЕНИЯ(в месяц; рублей)\n",
        "# РР-РАСПРЕДЕЛЕНИЕ СТРОИТЕЛЬНЫХ РАБОТ, ВЫПОЛНЕННЫХ ОРГАНИЗАЦИЯМИ (в процентах) РАЗЛИЧНЫХ ФОРМ СОБСТВЕННОСТИ  частнаяская\n",
        "# СИОКЗ-СТРУКТУРА ИНВЕСТИЦИЙ В ОСНОВНОЙ КАПИТАЛ ПО ВИДАМ ОСНОВНЫХ  ФОНДОВ (в процентах от общего объема инвестиций) 2019 З дания  (кроме жилых) и сооружения, расходы\n",
        "# ВЮФЛ- ВКЛАДЫ (ДЕПОЗИТЫ) ЮРИДИЧЕСКИХ И ФИЗИЧЕСКИХ ЛИЦ В РУБЛЯХ,  (исходя из места привлечения средств; на начало года; миллионов рублей) ПРИВЛЕЧЕННЫЕ КРЕДИТНЫМИ ОРГАНИЗАЦИЯМИ\n",
        "# ИППТ- ИСПОЛЬЗУЕМЫЕ ПЕРЕДОВЫЕ ПРОИЗВОДСТВЕННЫЕ ТЕХНОЛОГИИ\n",
        "# ЗИДО-ЗАТРАТЫ НА ИННОВАЦИОННУЮ ДЕЯТЕЛЬНОСТЬ ОРГАНИЗАЦИЙ в 2019 г. Млн руб.\n",
        "# NX-ТОВАРНАЯ СТРУКТУРА ЭКСПОРТА И ИМПОРТА в 2019 г. Чистый экспорт\n",
        "# ИТГП-ИНДЕКСЫ ТАРИФОВ НА ГРУЗОВЫЕ ПЕРЕВОЗКИ (декабрь к декабрю предыдущего года; в процентах)\n",
        "# ЖФ- ЖИЛИЩНЫЙ ФОНД1) (общая площадь жилых помещений; миллионов\n",
        "# ЧПО-ЧИСЛО ПРЕДПРИЯТИЙ И ОРГАНИЗАЦИЙ1)(на конец года)\n",
        "# ООЭД-ОБОРОТ ОРГАНИЗАЦИЙ ПО ВИДАМ ЭКОНОМИЧЕСКОЙ ДЕЯТЕЛЬНОСТИ в 2019 г. 1) (миллиардов рублей) обрабатыва ющие производств а\n",
        "# ОКУ-ОБЪЕМ КОММУНАЛЬНЫХ УСЛУГ НАСЕЛЕНИЮ (миллионов рублей)\n"
      ],
      "metadata": {
        "id": "TtMkpV_H3qjW"
      },
      "execution_count": null,
      "outputs": []
    },
    {
      "cell_type": "code",
      "source": [
        "import statsmodels.api as sm\n",
        "import statsmodels.formula.api as smf\n",
        "\n",
        "\n",
        "data['ИОК2']=np.log(data['ИОК'])\n",
        "data.head()\n",
        "data['ИППТ2']=np.log(data['ИППТ'])\n",
        "data.head()\n",
        "Y=np.log(data['ВРП'])\n",
        "X2=data[['ИОК2','ВСМ']]\n",
        "model2=sm.OLS(Y,sm.add_constant(X2)).fit()\n",
        "print(model2.summary())"
      ],
      "metadata": {
        "colab": {
          "base_uri": "https://localhost:8080/",
          "height": 247
        },
        "id": "50FdN9i-33If",
        "outputId": "3cec0e3f-c81e-468c-f5a4-4e1503394ff6"
      },
      "execution_count": null,
      "outputs": [
        {
          "output_type": "error",
          "ename": "NameError",
          "evalue": "ignored",
          "traceback": [
            "\u001b[0;31m---------------------------------------------------------------------------\u001b[0m",
            "\u001b[0;31mNameError\u001b[0m                                 Traceback (most recent call last)",
            "\u001b[0;32m<ipython-input-3-1911d683b785>\u001b[0m in \u001b[0;36m<cell line: 5>\u001b[0;34m()\u001b[0m\n\u001b[1;32m      3\u001b[0m \u001b[0;34m\u001b[0m\u001b[0m\n\u001b[1;32m      4\u001b[0m \u001b[0;34m\u001b[0m\u001b[0m\n\u001b[0;32m----> 5\u001b[0;31m \u001b[0mdata\u001b[0m\u001b[0;34m[\u001b[0m\u001b[0;34m'ИОК2'\u001b[0m\u001b[0;34m]\u001b[0m\u001b[0;34m=\u001b[0m\u001b[0mnp\u001b[0m\u001b[0;34m.\u001b[0m\u001b[0mlog\u001b[0m\u001b[0;34m(\u001b[0m\u001b[0mdata\u001b[0m\u001b[0;34m[\u001b[0m\u001b[0;34m'ИОК'\u001b[0m\u001b[0;34m]\u001b[0m\u001b[0;34m)\u001b[0m\u001b[0;34m\u001b[0m\u001b[0;34m\u001b[0m\u001b[0m\n\u001b[0m\u001b[1;32m      6\u001b[0m \u001b[0mdata\u001b[0m\u001b[0;34m.\u001b[0m\u001b[0mhead\u001b[0m\u001b[0;34m(\u001b[0m\u001b[0;34m)\u001b[0m\u001b[0;34m\u001b[0m\u001b[0;34m\u001b[0m\u001b[0m\n\u001b[1;32m      7\u001b[0m \u001b[0mdata\u001b[0m\u001b[0;34m[\u001b[0m\u001b[0;34m'ИППТ2'\u001b[0m\u001b[0;34m]\u001b[0m\u001b[0;34m=\u001b[0m\u001b[0mnp\u001b[0m\u001b[0;34m.\u001b[0m\u001b[0mlog\u001b[0m\u001b[0;34m(\u001b[0m\u001b[0mdata\u001b[0m\u001b[0;34m[\u001b[0m\u001b[0;34m'ИППТ'\u001b[0m\u001b[0;34m]\u001b[0m\u001b[0;34m)\u001b[0m\u001b[0;34m\u001b[0m\u001b[0;34m\u001b[0m\u001b[0m\n",
            "\u001b[0;31mNameError\u001b[0m: name 'np' is not defined"
          ]
        }
      ]
    },
    {
      "cell_type": "code",
      "source": [
        "# для модели 2\n",
        "fig = plt.figure(num = 2, figsize = (10, 10))\n",
        "\n",
        "# Графически ищем гетероскедастичность:\n",
        "influence = model2.get_influence()\n",
        "st_residuals_lin = influence.resid_studentized_internal\n",
        "\n",
        "# Диаграмма рассеяния остатков относительно\n",
        "ax = fig.add_subplot(2, 2, 1)\n",
        "ax.plot(model2.fittedvalues, st_residuals_lin, linestyle = \"None\", marker = \"o\", markeredgecolor = \"black\")\n",
        "# Гистограмма остатков\n",
        "ax = fig.add_subplot(2, 2, 2)\n",
        "ax.hist(st_residuals_lin, bins = 30, edgecolor = \"black\")\n",
        "# График остатков: Q-Q:\n",
        "ax = fig.add_subplot(2, 1, 2)\n",
        "stats.probplot(st_residuals_lin, dist = \"norm\", plot = ax)\n",
        "\n",
        "plt.show()"
      ],
      "metadata": {
        "colab": {
          "base_uri": "https://localhost:8080/",
          "height": 687
        },
        "id": "G68YiTew6DeX",
        "outputId": "e6b1aba0-85bf-405a-87cf-032a9227d7e8"
      },
      "execution_count": null,
      "outputs": [
        {
          "output_type": "display_data",
          "data": {
            "text/plain": [
              "<Figure size 1000x1000 with 3 Axes>"
            ],
            "image/png": "[encoded data removed]"
          },
          "metadata": {}
        }
      ]
    },
    {
      "cell_type": "code",
      "source": [
        "# H0: гомоскедастичность\n",
        "name = ['LM statistic', 'LM p-value', 'F-value', 'F  p-value']\n",
        "bp_test = sm_diagnostic.het_breuschpagan(resid = model2.resid, exog_het = sm.add_constant(X2))\n",
        "print(pd.DataFrame([np.round(bp_test, 3)], columns=name))"
      ],
      "metadata": {
        "colab": {
          "base_uri": "https://localhost:8080/"
        },
        "id": "jcTWq1sG6Rom",
        "outputId": "6a3c5ed0-2e07-4bdc-c5b4-db4e897ee109"
      },
      "execution_count": null,
      "outputs": [
        {
          "output_type": "stream",
          "name": "stdout",
          "text": [
            "   LM statistic  LM p-value  F-value  F  p-value\n",
            "0          9.25        0.01    5.007       0.009\n"
          ]
        }
      ]
    },
    {
      "cell_type": "code",
      "source": [
        "# H0: нормальность остатков\n",
        "norm_tests = [\"Anderson-Darling\",\n",
        "              \"Kolmogorov-Smirnov\",\n",
        "              \"Jarque-Bera\"]\n",
        "norm_test = pd.DataFrame()\n",
        "norm_test[\"p_value\"] = [\n",
        "    sm_diagnostic.normal_ad(x = model2.resid)[1],\n",
        "    sm_diagnostic.kstest_normal(x = model2.resid, dist = \"norm\")[1],\n",
        "    sm_tools.jarque_bera(model2.resid)[1]\n",
        "]\n",
        "norm_test[\"Test\"] = norm_tests\n",
        "print(norm_test)"
      ],
      "metadata": {
        "colab": {
          "base_uri": "https://localhost:8080/"
        },
        "id": "04s3_8256Y0l",
        "outputId": "cf098ded-7b2d-4e21-a7b2-43894676362b"
      },
      "execution_count": null,
      "outputs": [
        {
          "output_type": "stream",
          "name": "stdout",
          "text": [
            "        p_value                Test\n",
            "0  3.195968e-05    Anderson-Darling\n",
            "1  1.798794e-03  Kolmogorov-Smirnov\n",
            "2  3.224465e-29         Jarque-Bera\n"
          ]
        }
      ]
    },
    {
      "cell_type": "code",
      "source": [
        "#VIF-тест\n",
        "pd.Series([vif(X2.values, i) for i in range(X2.shape[1])], index=X2.columns)"
      ],
      "metadata": {
        "colab": {
          "base_uri": "https://localhost:8080/"
        },
        "id": "JzizKjY26pit",
        "outputId": "0196b5ca-9c69-4290-dd8d-41484592d4a9"
      },
      "execution_count": null,
      "outputs": [
        {
          "output_type": "execute_result",
          "data": {
            "text/plain": [
              "ВС2     4.417584\n",
              "ЧПО2    4.417584\n",
              "dtype: float64"
            ]
          },
          "metadata": {},
          "execution_count": 74
        }
      ]
    },
    {
      "cell_type": "code",
      "source": [
        "#Тест Бройша-Пагана.(определение гетероскедостичности/гомоскедостичности) ,H0->гомоскедостичность,\n",
        "#H1-> гомоскедостичность отсутствует.=> гетероскедостичность.\n",
        "#если p > 0,05 , то H0 не отвергаем\n",
        "import statsmodels.formula.api as smf\n",
        "from statsmodels.compat import lzip\n",
        "import statsmodels.stats.api as sms\n",
        "test = sms.het_breuschpagan(resid=model2.resid,exog_het=sm.add_constant(X2))\n",
        "names= ['Lagrange multiplier statistic','p-value','f-value ','f p-value']\n",
        "lzip(names,test)\n",
        "#1.Lagrange multiplier statistic\n",
        "#2.p-value\n",
        "#3.f-vulue\n",
        "#4.f p-value"
      ],
      "metadata": {
        "colab": {
          "base_uri": "https://localhost:8080/"
        },
        "id": "S7lSFNRV6uvB",
        "outputId": "247087eb-edce-4637-accd-a9156e8cd87d"
      },
      "execution_count": null,
      "outputs": [
        {
          "output_type": "execute_result",
          "data": {
            "text/plain": [
              "[('Lagrange multiplier statistic', 9.250237373243884),\n",
              " ('p-value', 0.009802491542169871),\n",
              " ('f-value ', 5.006744828650306),\n",
              " ('f p-value', 0.008880887568340462)]"
            ]
          },
          "metadata": {},
          "execution_count": 75
        }
      ]
    },
    {
      "cell_type": "markdown",
      "source": [
        "# Общие результаты"
      ],
      "metadata": {
        "id": "GsdzQQPLKlQW"
      }
    },
    {
      "cell_type": "code",
      "source": [
        "Stargazer([model_est, model1_est,model2_est])"
      ],
      "metadata": {
        "id": "jvWscKIxLDTa"
      },
      "execution_count": null,
      "outputs": []
    },
    {
      "cell_type": "code",
      "source": [
        "data1 = pd.read_excel(\"/content/BEZMOSKVYekonometrika_dannye_17_12_23_konechny_variant.xlsx\")\n",
        "data1.head()"
      ],
      "metadata": {
        "colab": {
          "base_uri": "https://localhost:8080/",
          "height": 342
        },
        "id": "Juo-eKYnO0-0",
        "outputId": "08c629a3-e79f-447d-c3c3-7cdebf1e74fa"
      },
      "execution_count": null,
      "outputs": [
        {
          "output_type": "execute_result",
          "data": {
            "text/plain": [
              "             Unnamed: 0     ВРП     ИОК   НИОКР   УЗН  З1000     СЧН    РДН  \\\n",
              "0  Белгородская область   956.0  167367  2631.6  80.5  694.5  1548.3  100.6   \n",
              "1      Брянская область   397.7   63944   666.1  77.9  760.4  1196.3  100.5   \n",
              "2  Владимирская область   537.4   90085  5496.6  81.8  895.2  1362.1  101.9   \n",
              "3   Воронежская область  1002.6  298024  9656.5  78.0  524.5  2326.0  101.1   \n",
              "4    Ивановская область   249.8   37992   865.6  80.0  931.1  1000.7   99.5   \n",
              "\n",
              "          Н     ОРТ  ... СИОКЗ    ВЮФЛ  ИППТ     ЗИДО      СЭ   ИТГП  ЖФ  \\\n",
              "0  123934.4  357195  ...  33.9  241282  2536  30653.0  1620.6  100.2  50   \n",
              "1   53930.2  270155  ...  36.8  114128  2064   2200.8  -425.4  103.8  36   \n",
              "2   84710.5  238711  ...  34.9  192945  7640  14058.5  -821.6  100.3  41   \n",
              "3  128249.4  585880  ...  47.9  368532  2795  22435.0   386.9  103.6  72   \n",
              "4   33519.3  178635  ...  28.5  119972  1161    195.3  -109.3  101.1  27   \n",
              "\n",
              "     ЧПО   ООЭД    ОКУ  \n",
              "0  33161  513.5  19994  \n",
              "1  17980  167.1  14932  \n",
              "2  29742  461.0  20666  \n",
              "3  49434  359.0  30861  \n",
              "4  27603   92.7  13950  \n",
              "\n",
              "[5 rows x 34 columns]"
            ],
            "text/html": [
              "\n",
              "  <div id=\"df-cddd01b5-04d4-4502-a726-5b907bebf6e3\" class=\"colab-df-container\">\n",
              "    <div>\n",
              "<style scoped>\n",
              "    .dataframe tbody tr th:only-of-type {\n",
              "        vertical-align: middle;\n",
              "    }\n",
              "\n",
              "    .dataframe tbody tr th {\n",
              "        vertical-align: top;\n",
              "    }\n",
              "\n",
              "    .dataframe thead th {\n",
              "        text-align: right;\n",
              "    }\n",
              "</style>\n",
              "<table border=\"1\" class=\"dataframe\">\n",
              "  <thead>\n",
              "    <tr style=\"text-align: right;\">\n",
              "      <th></th>\n",
              "      <th>Unnamed: 0</th>\n",
              "      <th>ВРП</th>\n",
              "      <th>ИОК</th>\n",
              "      <th>НИОКР</th>\n",
              "      <th>УЗН</th>\n",
              "      <th>З1000</th>\n",
              "      <th>СЧН</th>\n",
              "      <th>РДН</th>\n",
              "      <th>Н</th>\n",
              "      <th>ОРТ</th>\n",
              "      <th>...</th>\n",
              "      <th>СИОКЗ</th>\n",
              "      <th>ВЮФЛ</th>\n",
              "      <th>ИППТ</th>\n",
              "      <th>ЗИДО</th>\n",
              "      <th>СЭ</th>\n",
              "      <th>ИТГП</th>\n",
              "      <th>ЖФ</th>\n",
              "      <th>ЧПО</th>\n",
              "      <th>ООЭД</th>\n",
              "      <th>ОКУ</th>\n",
              "    </tr>\n",
              "  </thead>\n",
              "  <tbody>\n",
              "    <tr>\n",
              "      <th>0</th>\n",
              "      <td>Белгородская область</td>\n",
              "      <td>956.0</td>\n",
              "      <td>167367</td>\n",
              "      <td>2631.6</td>\n",
              "      <td>80.5</td>\n",
              "      <td>694.5</td>\n",
              "      <td>1548.3</td>\n",
              "      <td>100.6</td>\n",
              "      <td>123934.4</td>\n",
              "      <td>357195</td>\n",
              "      <td>...</td>\n",
              "      <td>33.9</td>\n",
              "      <td>241282</td>\n",
              "      <td>2536</td>\n",
              "      <td>30653.0</td>\n",
              "      <td>1620.6</td>\n",
              "      <td>100.2</td>\n",
              "      <td>50</td>\n",
              "      <td>33161</td>\n",
              "      <td>513.5</td>\n",
              "      <td>19994</td>\n",
              "    </tr>\n",
              "    <tr>\n",
              "      <th>1</th>\n",
              "      <td>Брянская область</td>\n",
              "      <td>397.7</td>\n",
              "      <td>63944</td>\n",
              "      <td>666.1</td>\n",
              "      <td>77.9</td>\n",
              "      <td>760.4</td>\n",
              "      <td>1196.3</td>\n",
              "      <td>100.5</td>\n",
              "      <td>53930.2</td>\n",
              "      <td>270155</td>\n",
              "      <td>...</td>\n",
              "      <td>36.8</td>\n",
              "      <td>114128</td>\n",
              "      <td>2064</td>\n",
              "      <td>2200.8</td>\n",
              "      <td>-425.4</td>\n",
              "      <td>103.8</td>\n",
              "      <td>36</td>\n",
              "      <td>17980</td>\n",
              "      <td>167.1</td>\n",
              "      <td>14932</td>\n",
              "    </tr>\n",
              "    <tr>\n",
              "      <th>2</th>\n",
              "      <td>Владимирская область</td>\n",
              "      <td>537.4</td>\n",
              "      <td>90085</td>\n",
              "      <td>5496.6</td>\n",
              "      <td>81.8</td>\n",
              "      <td>895.2</td>\n",
              "      <td>1362.1</td>\n",
              "      <td>101.9</td>\n",
              "      <td>84710.5</td>\n",
              "      <td>238711</td>\n",
              "      <td>...</td>\n",
              "      <td>34.9</td>\n",
              "      <td>192945</td>\n",
              "      <td>7640</td>\n",
              "      <td>14058.5</td>\n",
              "      <td>-821.6</td>\n",
              "      <td>100.3</td>\n",
              "      <td>41</td>\n",
              "      <td>29742</td>\n",
              "      <td>461.0</td>\n",
              "      <td>20666</td>\n",
              "    </tr>\n",
              "    <tr>\n",
              "      <th>3</th>\n",
              "      <td>Воронежская область</td>\n",
              "      <td>1002.6</td>\n",
              "      <td>298024</td>\n",
              "      <td>9656.5</td>\n",
              "      <td>78.0</td>\n",
              "      <td>524.5</td>\n",
              "      <td>2326.0</td>\n",
              "      <td>101.1</td>\n",
              "      <td>128249.4</td>\n",
              "      <td>585880</td>\n",
              "      <td>...</td>\n",
              "      <td>47.9</td>\n",
              "      <td>368532</td>\n",
              "      <td>2795</td>\n",
              "      <td>22435.0</td>\n",
              "      <td>386.9</td>\n",
              "      <td>103.6</td>\n",
              "      <td>72</td>\n",
              "      <td>49434</td>\n",
              "      <td>359.0</td>\n",
              "      <td>30861</td>\n",
              "    </tr>\n",
              "    <tr>\n",
              "      <th>4</th>\n",
              "      <td>Ивановская область</td>\n",
              "      <td>249.8</td>\n",
              "      <td>37992</td>\n",
              "      <td>865.6</td>\n",
              "      <td>80.0</td>\n",
              "      <td>931.1</td>\n",
              "      <td>1000.7</td>\n",
              "      <td>99.5</td>\n",
              "      <td>33519.3</td>\n",
              "      <td>178635</td>\n",
              "      <td>...</td>\n",
              "      <td>28.5</td>\n",
              "      <td>119972</td>\n",
              "      <td>1161</td>\n",
              "      <td>195.3</td>\n",
              "      <td>-109.3</td>\n",
              "      <td>101.1</td>\n",
              "      <td>27</td>\n",
              "      <td>27603</td>\n",
              "      <td>92.7</td>\n",
              "      <td>13950</td>\n",
              "    </tr>\n",
              "  </tbody>\n",
              "</table>\n",
              "<p>5 rows × 34 columns</p>\n",
              "</div>\n",
              "    <div class=\"colab-df-buttons\">\n",
              "\n",
              "  <div class=\"colab-df-container\">\n",
              "    <button class=\"colab-df-convert\" onclick=\"convertToInteractive('df-cddd01b5-04d4-4502-a726-5b907bebf6e3')\"\n",
              "            title=\"Convert this dataframe to an interactive table.\"\n",
              "            style=\"display:none;\">\n",
              "\n",
              "  <svg xmlns=\"http://www.w3.org/2000/svg\" height=\"24px\" viewBox=\"0 -960 960 960\">\n",
              "    <path d=\"M120-120v-720h720v720H120Zm60-500h600v-160H180v160Zm220 220h160v-160H400v160Zm0 220h160v-160H400v160ZM180-400h160v-160H180v160Zm440 0h160v-160H620v160ZM180-180h160v-160H180v160Zm440 0h160v-160H620v160Z\"/>\n",
              "  </svg>\n",
              "    </button>\n",
              "\n",
              "  <style>\n",
              "    .colab-df-container {\n",
              "      display:flex;\n",
              "      gap: 12px;\n",
              "    }\n",
              "\n",
              "    .colab-df-convert {\n",
              "      background-color: #E8F0FE;\n",
              "      border: none;\n",
              "      border-radius: 50%;\n",
              "      cursor: pointer;\n",
              "      display: none;\n",
              "      fill: #1967D2;\n",
              "      height: 32px;\n",
              "      padding: 0 0 0 0;\n",
              "      width: 32px;\n",
              "    }\n",
              "\n",
              "    .colab-df-convert:hover {\n",
              "      background-color: #E2EBFA;\n",
              "      box-shadow: 0px 1px 2px rgba(60, 64, 67, 0.3), 0px 1px 3px 1px rgba(60, 64, 67, 0.15);\n",
              "      fill: #174EA6;\n",
              "    }\n",
              "\n",
              "    .colab-df-buttons div {\n",
              "      margin-bottom: 4px;\n",
              "    }\n",
              "\n",
              "    [theme=dark] .colab-df-convert {\n",
              "      background-color: #3B4455;\n",
              "      fill: #D2E3FC;\n",
              "    }\n",
              "\n",
              "    [theme=dark] .colab-df-convert:hover {\n",
              "      background-color: #434B5C;\n",
              "      box-shadow: 0px 1px 3px 1px rgba(0, 0, 0, 0.15);\n",
              "      filter: drop-shadow(0px 1px 2px rgba(0, 0, 0, 0.3));\n",
              "      fill: #FFFFFF;\n",
              "    }\n",
              "  </style>\n",
              "\n",
              "    <script>\n",
              "      const buttonEl =\n",
              "        document.querySelector('#df-cddd01b5-04d4-4502-a726-5b907bebf6e3 button.colab-df-convert');\n",
              "      buttonEl.style.display =\n",
              "        google.colab.kernel.accessAllowed ? 'block' : 'none';\n",
              "\n",
              "      async function convertToInteractive(key) {\n",
              "        const element = document.querySelector('#df-cddd01b5-04d4-4502-a726-5b907bebf6e3');\n",
              "        const dataTable =\n",
              "          await google.colab.kernel.invokeFunction('convertToInteractive',\n",
              "                                                    [key], {});\n",
              "        if (!dataTable) return;\n",
              "\n",
              "        const docLinkHtml = 'Like what you see? Visit the ' +\n",
              "          '<a target=\"_blank\" href=https://colab.research.google.com/notebooks/data_table.ipynb>data table notebook</a>'\n",
              "          + ' to learn more about interactive tables.';\n",
              "        element.innerHTML = '';\n",
              "        dataTable['output_type'] = 'display_data';\n",
              "        await google.colab.output.renderOutput(dataTable, element);\n",
              "        const docLink = document.createElement('div');\n",
              "        docLink.innerHTML = docLinkHtml;\n",
              "        element.appendChild(docLink);\n",
              "      }\n",
              "    </script>\n",
              "  </div>\n",
              "\n",
              "\n",
              "<div id=\"df-86eb1a89-25a9-452b-b7ff-a6e770d26327\">\n",
              "  <button class=\"colab-df-quickchart\" onclick=\"quickchart('df-86eb1a89-25a9-452b-b7ff-a6e770d26327')\"\n",
              "            title=\"Suggest charts\"\n",
              "            style=\"display:none;\">\n",
              "\n",
              "<svg xmlns=\"http://www.w3.org/2000/svg\" height=\"24px\"viewBox=\"0 0 24 24\"\n",
              "     width=\"24px\">\n",
              "    <g>\n",
              "        <path d=\"M19 3H5c-1.1 0-2 .9-2 2v14c0 1.1.9 2 2 2h14c1.1 0 2-.9 2-2V5c0-1.1-.9-2-2-2zM9 17H7v-7h2v7zm4 0h-2V7h2v10zm4 0h-2v-4h2v4z\"/>\n",
              "    </g>\n",
              "</svg>\n",
              "  </button>\n",
              "\n",
              "<style>\n",
              "  .colab-df-quickchart {\n",
              "      --bg-color: #E8F0FE;\n",
              "      --fill-color: #1967D2;\n",
              "      --hover-bg-color: #E2EBFA;\n",
              "      --hover-fill-color: #174EA6;\n",
              "      --disabled-fill-color: #AAA;\n",
              "      --disabled-bg-color: #DDD;\n",
              "  }\n",
              "\n",
              "  [theme=dark] .colab-df-quickchart {\n",
              "      --bg-color: #3B4455;\n",
              "      --fill-color: #D2E3FC;\n",
              "      --hover-bg-color: #434B5C;\n",
              "      --hover-fill-color: #FFFFFF;\n",
              "      --disabled-bg-color: #3B4455;\n",
              "      --disabled-fill-color: #666;\n",
              "  }\n",
              "\n",
              "  .colab-df-quickchart {\n",
              "    background-color: var(--bg-color);\n",
              "    border: none;\n",
              "    border-radius: 50%;\n",
              "    cursor: pointer;\n",
              "    display: none;\n",
              "    fill: var(--fill-color);\n",
              "    height: 32px;\n",
              "    padding: 0;\n",
              "    width: 32px;\n",
              "  }\n",
              "\n",
              "  .colab-df-quickchart:hover {\n",
              "    background-color: var(--hover-bg-color);\n",
              "    box-shadow: 0 1px 2px rgba(60, 64, 67, 0.3), 0 1px 3px 1px rgba(60, 64, 67, 0.15);\n",
              "    fill: var(--button-hover-fill-color);\n",
              "  }\n",
              "\n",
              "  .colab-df-quickchart-complete:disabled,\n",
              "  .colab-df-quickchart-complete:disabled:hover {\n",
              "    background-color: var(--disabled-bg-color);\n",
              "    fill: var(--disabled-fill-color);\n",
              "    box-shadow: none;\n",
              "  }\n",
              "\n",
              "  .colab-df-spinner {\n",
              "    border: 2px solid var(--fill-color);\n",
              "    border-color: transparent;\n",
              "    border-bottom-color: var(--fill-color);\n",
              "    animation:\n",
              "      spin 1s steps(1) infinite;\n",
              "  }\n",
              "\n",
              "  @keyframes spin {\n",
              "    0% {\n",
              "      border-color: transparent;\n",
              "      border-bottom-color: var(--fill-color);\n",
              "      border-left-color: var(--fill-color);\n",
              "    }\n",
              "    20% {\n",
              "      border-color: transparent;\n",
              "      border-left-color: var(--fill-color);\n",
              "      border-top-color: var(--fill-color);\n",
              "    }\n",
              "    30% {\n",
              "      border-color: transparent;\n",
              "      border-left-color: var(--fill-color);\n",
              "      border-top-color: var(--fill-color);\n",
              "      border-right-color: var(--fill-color);\n",
              "    }\n",
              "    40% {\n",
              "      border-color: transparent;\n",
              "      border-right-color: var(--fill-color);\n",
              "      border-top-color: var(--fill-color);\n",
              "    }\n",
              "    60% {\n",
              "      border-color: transparent;\n",
              "      border-right-color: var(--fill-color);\n",
              "    }\n",
              "    80% {\n",
              "      border-color: transparent;\n",
              "      border-right-color: var(--fill-color);\n",
              "      border-bottom-color: var(--fill-color);\n",
              "    }\n",
              "    90% {\n",
              "      border-color: transparent;\n",
              "      border-bottom-color: var(--fill-color);\n",
              "    }\n",
              "  }\n",
              "</style>\n",
              "\n",
              "  <script>\n",
              "    async function quickchart(key) {\n",
              "      const quickchartButtonEl =\n",
              "        document.querySelector('#' + key + ' button');\n",
              "      quickchartButtonEl.disabled = true;  // To prevent multiple clicks.\n",
              "      quickchartButtonEl.classList.add('colab-df-spinner');\n",
              "      try {\n",
              "        const charts = await google.colab.kernel.invokeFunction(\n",
              "            'suggestCharts', [key], {});\n",
              "      } catch (error) {\n",
              "        console.error('Error during call to suggestCharts:', error);\n",
              "      }\n",
              "      quickchartButtonEl.classList.remove('colab-df-spinner');\n",
              "      quickchartButtonEl.classList.add('colab-df-quickchart-complete');\n",
              "    }\n",
              "    (() => {\n",
              "      let quickchartButtonEl =\n",
              "        document.querySelector('#df-86eb1a89-25a9-452b-b7ff-a6e770d26327 button');\n",
              "      quickchartButtonEl.style.display =\n",
              "        google.colab.kernel.accessAllowed ? 'block' : 'none';\n",
              "    })();\n",
              "  </script>\n",
              "</div>\n",
              "    </div>\n",
              "  </div>\n"
            ]
          },
          "metadata": {},
          "execution_count": 24
        }
      ]
    },
    {
      "cell_type": "code",
      "source": [
        "import statsmodels.api as sm\n",
        "import statsmodels.formula.api as smf\n",
        "data1['СДДНМ2']=np.log(data1['СДДНМ'])\n",
        "data1.head()\n",
        "data1['ОКУ2']=np.log(data1['ОКУ'])\n",
        "data1.head()\n",
        "Y=data1['ВРП']\n",
        "X=data1[['ГАТ','ОКУ','ОГЖ','РДН']]\n",
        "model0=sm.OLS(Y,sm.add_constant(X)).fit()\n",
        "print(model0.summary())"
      ],
      "metadata": {
        "id": "9Wv6fKMKQJpw"
      },
      "execution_count": null,
      "outputs": []
    },
    {
      "cell_type": "code",
      "source": [
        "# для линейной модели\n",
        "fig = plt.figure(num = 2, figsize = (10, 10))\n",
        "\n",
        "# Графически ищем гетероскедастичность:\n",
        "influence = model0.get_influence()\n",
        "st_residuals_lin = influence.resid_studentized_internal\n",
        "\n",
        "# Диаграмма рассеяния остатков относительно\n",
        "ax = fig.add_subplot(2, 2, 1)\n",
        "ax.plot(model0.fittedvalues, st_residuals_lin, linestyle = \"None\", marker = \"o\", markeredgecolor = \"black\")\n",
        "# Гистограмма остатков\n",
        "ax = fig.add_subplot(2, 2, 2)\n",
        "ax.hist(st_residuals_lin, bins = 30, edgecolor = \"black\")\n",
        "# График остатков: Q-Q:\n",
        "ax = fig.add_subplot(2, 1, 2)\n",
        "stats.probplot(st_residuals_lin, dist = \"norm\", plot = ax)\n",
        "\n",
        "plt.show()"
      ],
      "metadata": {
        "id": "_ZCgFL0AQJg8"
      },
      "execution_count": null,
      "outputs": []
    },
    {
      "cell_type": "code",
      "source": [
        "# H0: гомоскедастичность\n",
        "name = ['LM statistic', 'LM p-value', 'F-value', 'F  p-value']\n",
        "bp_test = sm_diagnostic.het_breuschpagan(resid = model0.resid, exog_het = sm.add_constant(X))\n",
        "print(pd.DataFrame([np.round(bp_test, 3)], columns=name))"
      ],
      "metadata": {
        "colab": {
          "base_uri": "https://localhost:8080/"
        },
        "id": "JdVeQ03cQJUH",
        "outputId": "3ac249cc-88bf-49ce-df38-cb2c1b4754cc"
      },
      "execution_count": null,
      "outputs": [
        {
          "output_type": "stream",
          "name": "stdout",
          "text": [
            "   LM statistic  LM p-value  F-value  F  p-value\n",
            "0         7.307       0.121    1.882       0.122\n"
          ]
        }
      ]
    },
    {
      "cell_type": "code",
      "source": [
        "# H0: нормальность остатков\n",
        "norm_tests = [\"Anderson-Darling\",\n",
        "              \"Kolmogorov-Smirnov\",\n",
        "              \"Jarque-Bera\"]"
      ],
      "metadata": {
        "id": "0W7ob0pzWTXC"
      },
      "execution_count": null,
      "outputs": []
    },
    {
      "cell_type": "code",
      "source": [
        "norm_test = pd.DataFrame()\n",
        "norm_test[\"p_value\"] = [\n",
        "    sm_diagnostic.normal_ad(x = model0.resid)[1],\n",
        "    sm_diagnostic.kstest_normal(x = model0.resid, dist = \"norm\")[1],\n",
        "    sm_tools.jarque_bera(model0.resid)[1]\n",
        "]\n",
        "norm_test[\"Test\"] = norm_tests\n",
        "print(norm_test)"
      ],
      "metadata": {
        "colab": {
          "base_uri": "https://localhost:8080/"
        },
        "id": "XCey-_pMWTUZ",
        "outputId": "2a389b88-f65c-4a57-b102-a5666b269afa"
      },
      "execution_count": null,
      "outputs": [
        {
          "output_type": "stream",
          "name": "stdout",
          "text": [
            "         p_value                Test\n",
            "0   2.093656e-18    Anderson-Darling\n",
            "1   1.000000e-03  Kolmogorov-Smirnov\n",
            "2  8.424357e-205         Jarque-Bera\n"
          ]
        }
      ]
    },
    {
      "cell_type": "code",
      "source": [
        "#VIF-тест\n",
        "pd.Series([vif(X.values, i) for i in range(X.shape[1])], index=X.columns)"
      ],
      "metadata": {
        "colab": {
          "base_uri": "https://localhost:8080/"
        },
        "id": "vC-CmTC8WTRm",
        "outputId": "795e1694-8c6f-4b81-8e86-90424df5ee14"
      },
      "execution_count": null,
      "outputs": [
        {
          "output_type": "execute_result",
          "data": {
            "text/plain": [
              "ГАТ    5.397511\n",
              "ОКУ    4.896265\n",
              "ОГЖ    1.067742\n",
              "РДН    2.105009\n",
              "dtype: float64"
            ]
          },
          "metadata": {},
          "execution_count": 32
        }
      ]
    },
    {
      "cell_type": "code",
      "source": [
        "#Тест Бройша-Пагана.(определение гетероскедостичности/гомоскедостичности) ,H0->гомоскедостичность,\n",
        "#H1-> гомоскедостичность отсутствует.=> гетероскедостичность.\n",
        "#если p > 0,05 , то H0 не отвергаем\n",
        "import statsmodels.formula.api as smf\n",
        "from statsmodels.compat import lzip\n",
        "import statsmodels.stats.api as sms\n",
        "test = sms.het_breuschpagan(resid=model0.resid,exog_het=sm.add_constant(X))\n",
        "names= ['Lagrange multiplier statistic','p-value','f-value ','f p-value']\n",
        "lzip(names,test)\n",
        "#1.Lagrange multiplier statistic\n",
        "#2.p-value\n",
        "#3.f-vulue\n",
        "#4.f p-value"
      ],
      "metadata": {
        "id": "M5_c3MG3WTOc"
      },
      "execution_count": null,
      "outputs": []
    },
    {
      "cell_type": "code",
      "source": [
        "#Тестирование на пропущенную нелинейность(Тест Рейнбоу)\n",
        "data_rain = data.iloc[np.argsort(data[\"ГАТ\"]), :]\n",
        "factors_rain = data_rain[['ГАТ','ОКУ','ОГЖ','РДН']]\n",
        "wage_rain = data_rain['ВРП']\n",
        "\n",
        "res_rain = sm.OLS(wage_rain, factors_rain).fit()\n",
        "rain_t1 = sm_diagnostic.linear_rainbow(res_rain)\n",
        "print(pd.DataFrame(rain_t1, index = [\"F-stat\", \"p-value\"]).T)"
      ],
      "metadata": {
        "colab": {
          "base_uri": "https://localhost:8080/"
        },
        "id": "pIBVuOQOWTJL",
        "outputId": "42619bf3-5fbf-43c6-c7d7-b6e3407d483d"
      },
      "execution_count": null,
      "outputs": [
        {
          "output_type": "stream",
          "name": "stdout",
          "text": [
            "      F-stat       p-value\n",
            "0  11.166081  6.014400e-12\n"
          ]
        }
      ]
    },
    {
      "cell_type": "code",
      "source": [
        "#Тестирование на пропущенную нелинейность\n",
        "factors_nosq = data[['ГАТ','ОКУ','ОГЖ']]\n",
        "\n",
        "wage = data['ВРП']\n",
        "res_nosq = sm.OLS(wage, factors_nosq).fit()\n",
        "\n",
        "reset_t2 = oi.reset_ramsey(res_nosq, degree = 2)\n",
        "print(reset_t2)"
      ],
      "metadata": {
        "colab": {
          "base_uri": "https://localhost:8080/"
        },
        "id": "iUD7IaiuWTAP",
        "outputId": "b8fe7ef3-0e30-444a-ad5c-f2871452bf2b"
      },
      "execution_count": null,
      "outputs": [
        {
          "output_type": "stream",
          "name": "stdout",
          "text": [
            "<F test: F=42.198948702535105, p=6.216372227303423e-09, df_denom=81, df_num=1>\n"
          ]
        }
      ]
    }
  ]
}